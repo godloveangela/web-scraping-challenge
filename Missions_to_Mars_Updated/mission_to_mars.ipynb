{
 "cells": [
  {
   "cell_type": "code",
   "execution_count": 1,
   "metadata": {
    "collapsed": false,
    "pycharm": {
     "name": "#%%\n"
    }
   },
   "outputs": [],
   "source": [
    "import pandas as pd\n",
    "import requests\n",
    "import bs4\n",
    "import lxml\n",
    "import splinter\n",
    "import selenium"
   ]
  },
  {
   "cell_type": "code",
   "execution_count": 2,
   "metadata": {
    "collapsed": false,
    "pycharm": {
     "name": "#%%\n"
    }
   },
   "outputs": [],
   "source": [
    "site = \"https://redplanetscience.com/\"\n",
    "\n",
    "# Example:\n",
    "news_title = \"NASA's Next Mars Mission to Investigate Interior of Red Planet\"\n",
    "\n",
    "news_p = \"Preparation of NASA's next spacecraft to Mars, InSight, has ramped up this summer, on course for launch next May from Vandenberg Air Force Base in central California -- the first interplanetary launch in history from America's West Coast.\""
   ]
  },
  {
   "cell_type": "markdown",
   "metadata": {},
   "source": [
    "NASA Mars News\n",
    "Scrape the Mars News Site and collect the latest News Title and Paragraph Text. Assign the text to variables that you can reference later."
   ]
  },
  {
   "cell_type": "code",
   "execution_count": 3,
   "metadata": {
    "collapsed": false,
    "pycharm": {
     "name": "#%%\n"
    }
   },
   "outputs": [
    {
     "name": "stdout",
     "output_type": "stream",
     "text": [
      "NASA's InSight Flexes Its Arm While Its 'Mole' Hits Pause\n",
      "Now that the lander's robotic arm has helped the mole get underground, it will resume science activities that have been on hold.\n"
     ]
    }
   ],
   "source": [
    "# NASA Mars News\n",
    "\n",
    "site = \"https://redplanetscience.com/\"\n",
    "\n",
    "# use splinter to access the site and bs4 to parse the html\n",
    "browser = splinter.Browser('chrome')\n",
    "browser.visit(site)\n",
    "\n",
    "# find title\n",
    "html = browser.html\n",
    "soup = bs4.BeautifulSoup(html, 'html.parser')\n",
    "news_title = soup.find('div', class_='content_title').text\n",
    "news_text = soup.find('div', class_='article_teaser_body').text\n",
    "print(news_title)\n",
    "print(news_text)"
   ]
  },
  {
   "cell_type": "code",
   "execution_count": 4,
   "metadata": {
    "pycharm": {
     "name": "#%%\n"
    }
   },
   "outputs": [],
   "source": [
    "# JPL Mars Space Images - Featured Image\n",
    "# Visit the url for the Featured Space Image page here.\n",
    "featured_image_url = \"https://spaceimages-mars.com/\"\n",
    "browser = splinter.Browser('chrome')\n",
    "browser.visit(featured_image_url)"
   ]
  },
  {
   "cell_type": "code",
   "execution_count": 5,
   "metadata": {},
   "outputs": [
    {
     "name": "stdout",
     "output_type": "stream",
     "text": [
      "https://spaceimages-mars.com/image/featured/mars3.jpg\n"
     ]
    },
    {
     "data": {
      "text/html": [
       "<img src=\"https://spaceimages-mars.com/image/featured/mars3.jpg\"/>"
      ],
      "text/plain": [
       "<IPython.core.display.Image object>"
      ]
     },
     "execution_count": 5,
     "metadata": {},
     "output_type": "execute_result"
    }
   ],
   "source": [
    "# Use splinter to navigate the site and find the image url for the current Featured Mars Image and assign the url string to a variable called\n",
    "\n",
    "# <a class=\"showimg fancybox-thumbs\" href=\"image/featured/mars1.jpg\" target=\"_blank\"> \n",
    "html = browser.html\n",
    "soup = bs4.BeautifulSoup(html, 'html.parser')\n",
    "featured_image_url = soup.find('a', class_='showimg fancybox-thumbs')['href']\n",
    "featured_image_url = 'https://spaceimages-mars.com/' + featured_image_url\n",
    "print(featured_image_url)\n",
    "# show the image\n",
    "from IPython.display import Image\n",
    "Image(url=featured_image_url)"
   ]
  },
  {
   "cell_type": "markdown",
   "metadata": {},
   "source": [
    "Mars Facts\n",
    "Visit the Mars Facts webpage here and use Pandas to scrape the table containing facts about the planet including Diameter, Mass, etc.\n",
    "\n",
    "Use Pandas to convert the data to a HTML table string."
   ]
  },
  {
   "cell_type": "code",
   "execution_count": 6,
   "metadata": {},
   "outputs": [],
   "source": [
    "mar_facts = \"https://galaxyfacts-mars.com/\"\n",
    "browser = splinter.Browser('chrome')\n",
    "browser.visit(mar_facts)\n",
    "\n",
    "html = browser.html\n",
    "soup = bs4.BeautifulSoup(html, 'html.parser')"
   ]
  },
  {
   "cell_type": "code",
   "execution_count": 7,
   "metadata": {},
   "outputs": [
    {
     "name": "stdout",
     "output_type": "stream",
     "text": [
      "               Description             Mars            Earth\n",
      "0  Mars - Earth Comparison             Mars            Earth\n",
      "1                Diameter:         6,779 km        12,742 km\n",
      "2                    Mass:  6.39 × 10^23 kg  5.97 × 10^24 kg\n",
      "3                   Moons:                2                1\n",
      "4       Distance from Sun:   227,943,824 km   149,598,262 km\n",
      "5          Length of Year:   687 Earth days      365.24 days\n",
      "6             Temperature:     -87 to -5 °C      -88 to 58°C\n"
     ]
    }
   ],
   "source": [
    "#  use Pandas to scrape the table containing facts about the planet including Diameter, Mass, etc.\n",
    "mar_facts = \"https://galaxyfacts-mars.com/\"\n",
    "table = pd.read_html(mar_facts)\n",
    "table = table[0]\n",
    "table.columns = ['Description', 'Mars', 'Earth']\n",
    "print(table)"
   ]
  },
  {
   "cell_type": "markdown",
   "metadata": {},
   "source": [
    "Mars Hemispheres\n",
    "Visit the Astrogeology site here to obtain high resolution images for each of Mar's hemispheres.\n",
    "\n",
    "You will need to click each of the links to the hemispheres in order to find the image url to the full resolution image.\n",
    "\n",
    "Save both the image url string for the full resolution hemisphere image, and the Hemisphere title containing the hemisphere name. Use a Python dictionary to store the data using the keys img_url and title.\n",
    "\n",
    "Append the dictionary with the image url string and the hemisphere title to a list. This list will contain one dictionary for each hemisphere."
   ]
  },
  {
   "cell_type": "code",
   "execution_count": 8,
   "metadata": {
    "pycharm": {
     "name": "#%%\n"
    }
   },
   "outputs": [],
   "source": [
    "mars_hemisphere = \"https://marshemispheres.com/\"\n",
    "emisphere_image_urls = []"
   ]
  },
  {
   "cell_type": "code",
   "execution_count": 9,
   "metadata": {},
   "outputs": [],
   "source": [
    "browser = splinter.Browser('chrome')\n",
    "browser.visit(mars_hemisphere)\n",
    "html = browser.html\n",
    "soup = bs4.BeautifulSoup(html, 'html.parser')\n",
    "# <a href=\"cerberus.html\" class=\"itemLink product-item\">\n",
    "img_tag = soup.find_all('a', class_='itemLink product-item')"
   ]
  },
  {
   "cell_type": "code",
   "execution_count": 10,
   "metadata": {},
   "outputs": [
    {
     "name": "stdout",
     "output_type": "stream",
     "text": [
      "['https://marshemispheres.com/cerberus.html', 'https://marshemispheres.com/schiaparelli.html', 'https://marshemispheres.com/syrtis.html', 'https://marshemispheres.com/valles.html']\n"
     ]
    }
   ],
   "source": [
    "img_list = []\n",
    "for i in img_tag:\n",
    "    # print(i['href'])\n",
    "    if 'https://marshemispheres.com/' + i['href'] not in img_list and i['href'] != '#':\n",
    "        img_list.append('https://marshemispheres.com/' + i['href'])\n",
    "print(img_list)"
   ]
  },
  {
   "cell_type": "code",
   "execution_count": 11,
   "metadata": {},
   "outputs": [
    {
     "name": "stdout",
     "output_type": "stream",
     "text": [
      "<a href=\"images/cerberus_enhanced.tif\" target=\"_blank\">Original</a>\n",
      "<a href=\"images/schiaparelli_enhanced.tif\" target=\"_blank\">Original</a>\n",
      "<a href=\"images/syrtis_major_enhanced.tif\" target=\"_blank\">Original</a>\n",
      "<a href=\"images/valles_marineris_enhanced.tif\" target=\"_blank\">Original</a>\n"
     ]
    }
   ],
   "source": [
    "# <img class=\"thumb\" src=\"images/39d3266553462198bd2fbc4d18fbed17_cerberus_enhanced.tif_thumb.png\" alt=\"Cerberus Hemisphere Enhanced thumbnail\">\n",
    "lst_hemisphere_images = []\n",
    "for i in img_list:\n",
    "    browser.visit(i)\n",
    "    html = browser.html\n",
    "    soup = bs4.BeautifulSoup(html, 'html.parser')\n",
    "    # <a target=\"_blank\" href=\"images/cerberus_enhanced.tif\">Original</a>\n",
    "    img_url = soup.find('a', text='Original')\n",
    "    print(img_url)\n",
    "    lst_hemisphere_images.append('https://marshemispheres.com/' + img_url['href'])\n"
   ]
  },
  {
   "cell_type": "code",
   "execution_count": 13,
   "metadata": {},
   "outputs": [
    {
     "data": {
      "text/plain": [
       "['https://marshemispheres.com/cerberus.html',\n",
       " 'https://marshemispheres.com/schiaparelli.html',\n",
       " 'https://marshemispheres.com/syrtis.html',\n",
       " 'https://marshemispheres.com/valles.html']"
      ]
     },
     "execution_count": 13,
     "metadata": {},
     "output_type": "execute_result"
    }
   ],
   "source": [
    "img_list"
   ]
  }
 ],
 "metadata": {
  "kernelspec": {
   "display_name": "Python 3.9.7 ('base')",
   "language": "python",
   "name": "python3"
  },
  "language_info": {
   "codemirror_mode": {
    "name": "ipython",
    "version": 3
   },
   "file_extension": ".py",
   "mimetype": "text/x-python",
   "name": "python",
   "nbconvert_exporter": "python",
   "pygments_lexer": "ipython3",
   "version": "3.9.7"
  },
  "orig_nbformat": 4,
  "vscode": {
   "interpreter": {
    "hash": "ba36a2830965e76ff6c4189cefddc471503698f8f8070ee94822ed10fce6b711"
   }
  }
 },
 "nbformat": 4,
 "nbformat_minor": 2
}
